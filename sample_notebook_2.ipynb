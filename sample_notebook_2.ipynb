{
  "cells": [
    {
      "cell_type": "markdown",
      "id": "cf74e980-d0f0-42c7-ad1e-f5fb4611bc9d",
      "metadata": {
        "pycharm": {
          "name": "#%% md\n"
        }
      },
      "source": [
        "This notebook doesn't do much"
      ]
    },
    {
      "cell_type": "code",
      "execution_count": null,
      "outputs": [],
      "source": [
        "print(\"hi\")"
      ],
      "metadata": {
        "collapsed": false,
        "pycharm": {
          "name": "#%%\n"
        }
      }
    }
  ],
  "metadata": {
    "description": "This is my new notebook",
    "kernelspec": {
      "display_name": "Python 3 (ipykernel)",
      "language": "python",
      "name": "python3"
    },
    "language_info": {
      "codemirror_mode": {
        "name": "ipython",
        "version": 3
      },
      "file_extension": ".py",
      "mimetype": "text/x-python",
      "name": "python",
      "nbconvert_exporter": "python",
      "pygments_lexer": "ipython3",
      "version": "3.8.5"
    },
    "ro-crate": {
      "@context": "https://w3id.org/ro/crate/1.1/context",
      "@graph": [
        {
          "@id": "./",
          "@type": "Dataset",
          "datePublished": "2022-08-16T00:26:29+00:00",
          "hasPart": [
            {
              "@id": "sample_notebook_2.ipynb"
            }
          ]
        },
        {
          "@id": "ro-crate-metadata.json",
          "@type": "CreativeWork",
          "about": {
            "@id": "./"
          },
          "conformsTo": {
            "@id": "https://w3id.org/ro/crate/1.1"
          }
        },
        {
          "@id": "sample_notebook_2.ipynb",
          "@type": "File",
          "author": [
            {
              "@id": "#0000-0003-0879-9251"
            }
          ],
          "description": "This is my new notebook",
          "encodingFormat": "application/x-ipynb+json",
          "name": "sample_notebook_2.ipynb"
        },
        {
          "@id": "#0000-0003-0879-9251",
          "@type": "Person",
          "name": "Foley, Ben"
        }
      ]
    }
  },
  "nbformat": 4,
  "nbformat_minor": 5
}