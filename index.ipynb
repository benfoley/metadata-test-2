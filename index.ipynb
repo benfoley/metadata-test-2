{
  "cells": [
    {
      "cell_type": "markdown",
      "id": "2c63b745",
      "metadata": {},
      "source": [
        "# metadata test 2\n",
        "\n",
        "Current version: [v0.0.0](https://github.com/benfoley/metadata-test-2/releases/tag/v0.0.0)\n",
        "\n",
        "trying the new action For more information see the [metadata test 2](https://glam-workbench.net/metadata-test-2/) section of the GLAM Workbench.\n",
        "\n",
        "## Notebook topics\n",
        "\n",
        "* [Notebook title](notebook.ipynb) \u2013 this notebook does things\n",
        "\n",
        "See the [GLAM Workbench for more details](https://glam-workbench.github.io/metadata-test-2/).\n"
      ]
    },
    {
      "cell_type": "markdown",
      "id": "3efaac33",
      "metadata": {},
      "source": [
        "## Cite as\n",
        "\n",
        "See the GLAM Workbench or [Zenodo](https://doi.org/10.5281/zenodo.3521724) for up-to-date citation details.\n",
        "\n",
        "----\n",
        "\n",
        "This repository is part of the [GLAM Workbench](https://glam-workbench.github.io/).  \n"
      ]
    }
  ],
  "metadata": {
    "jupytext": {
      "cell_metadata_filter": "-all"
    },
    "kernelspec": {
      "display_name": "Python 3 (ipykernel)",
      "language": "python",
      "name": "python3"
    },
    "ro-crate": {
      "@context": "https://w3id.org/ro/crate/1.1/context",
      "@graph": [
        {
          "@id": "./",
          "@type": "Dataset",
          "datePublished": "2022-08-16T00:18:28+00:00",
          "hasPart": [
            {
              "@id": "index.ipynb"
            }
          ]
        },
        {
          "@id": "ro-crate-metadata.json",
          "@type": "CreativeWork",
          "about": {
            "@id": "./"
          },
          "conformsTo": {
            "@id": "https://w3id.org/ro/crate/1.1"
          }
        },
        {
          "@id": "index.ipynb",
          "@type": "File",
          "author": [
            {
              "@id": "#0000-0003-0879-9251"
            }
          ],
          "description": "",
          "encodingFormat": "application/x-ipynb+json",
          "name": "index.ipynb"
        },
        {
          "@id": "#0000-0003-0879-9251",
          "@type": "Person",
          "name": "Foley, Ben"
        }
      ]
    }
  },
  "nbformat": 4,
  "nbformat_minor": 5
}